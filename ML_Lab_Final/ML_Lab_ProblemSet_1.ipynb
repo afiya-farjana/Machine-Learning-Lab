{
  "nbformat": 4,
  "nbformat_minor": 0,
  "metadata": {
    "colab": {
      "provenance": [],
      "mount_file_id": "1rjQ4teNyHMwApH2uGfKD2W7KCUdp_StN",
      "authorship_tag": "ABX9TyMz2zKtwp6C7WTu1x7oR+98",
      "include_colab_link": true
    },
    "kernelspec": {
      "name": "python3",
      "display_name": "Python 3"
    },
    "language_info": {
      "name": "python"
    },
    "accelerator": "GPU",
    "gpuClass": "standard"
  },
  "cells": [
    {
      "cell_type": "markdown",
      "metadata": {
        "id": "view-in-github",
        "colab_type": "text"
      },
      "source": [
        "<a href=\"https://colab.research.google.com/github/afiya-farjana/Machine-Learning-Lab/blob/main/ML_Lab_Final/ML_Lab_ProblemSet_1.ipynb\" target=\"_parent\"><img src=\"https://colab.research.google.com/assets/colab-badge.svg\" alt=\"Open In Colab\"/></a>"
      ]
    },
    {
      "cell_type": "code",
      "execution_count": 1,
      "metadata": {
        "id": "dNBCSaqDak1R"
      },
      "outputs": [],
      "source": [
        "#Imports\n",
        "import tensorflow as tf\n",
        "import numpy as np\n",
        "import os\n",
        "from tensorflow.keras.models import Sequential\n",
        "from tensorflow.keras.layers import Conv2D, MaxPooling2D, Dense, Flatten, Dropout\n",
        "from tensorflow.keras.preprocessing.image import ImageDataGenerator\n",
        "from sklearn.metrics import classification_report, confusion_matrix"
      ]
    },
    {
      "cell_type": "code",
      "source": [
        "from google.colab import drive\n",
        "drive.mount('/content/drive')"
      ],
      "metadata": {
        "colab": {
          "base_uri": "https://localhost:8080/"
        },
        "id": "KS4MDf6pa8rD",
        "outputId": "a88e5cae-3aec-40b1-da1d-a25c1fb6a42a"
      },
      "execution_count": 2,
      "outputs": [
        {
          "output_type": "stream",
          "name": "stdout",
          "text": [
            "Drive already mounted at /content/drive; to attempt to forcibly remount, call drive.mount(\"/content/drive\", force_remount=True).\n"
          ]
        }
      ]
    },
    {
      "cell_type": "code",
      "source": [
        "#Unzipping the dataset\n",
        "from zipfile import ZipFile\n",
        "with ZipFile ('/content/drive/MyDrive/CNN_dataset.zip', 'r') as zipOBJ:\n",
        "  zipOBJ.extractall('CNN_Dataset')"
      ],
      "metadata": {
        "id": "UjABh3mNa_RI"
      },
      "execution_count": 3,
      "outputs": []
    },
    {
      "cell_type": "code",
      "source": [
        "#Dataset_Path\n",
        "dataset_path = '/content/CNN_Dataset/CNN_dataset'\n",
        "files = os.listdir(dataset_path)\n",
        "print(files)"
      ],
      "metadata": {
        "id": "LiU2QpeibBF4",
        "colab": {
          "base_uri": "https://localhost:8080/"
        },
        "outputId": "058d75b4-af8a-41e2-dc16-7c2e61aa5ea0"
      },
      "execution_count": 4,
      "outputs": [
        {
          "output_type": "stream",
          "name": "stdout",
          "text": [
            "['HeadCT', 'ChestCT', 'Hand', 'AbdomenCT', 'CXR']\n"
          ]
        }
      ]
    },
    {
      "cell_type": "code",
      "source": [
        "# Loading dataset using ImageDataGenerator and splitting it to train and validation\n",
        "train_datagen = ImageDataGenerator(\n",
        "    rescale=1./255,\n",
        "    shear_range=0.2,\n",
        "    zoom_range=0.2,\n",
        "    horizontal_flip=True,\n",
        "    validation_split=0.3\n",
        ")\n",
        "\n",
        "train_generator = train_datagen.flow_from_directory(\n",
        "    dataset_path,\n",
        "    target_size=(64, 64),\n",
        "    batch_size=45,\n",
        "    class_mode='categorical',\n",
        "    subset='training'\n",
        ")\n",
        "\n",
        "val_generator = train_datagen.flow_from_directory(\n",
        "    dataset_path,\n",
        "    target_size=(64, 64),\n",
        "    batch_size= 45,\n",
        "    class_mode='categorical',\n",
        "    subset='validation'\n",
        ")\n",
        "\n",
        "test_datagen = ImageDataGenerator(rescale=1./255)\n",
        "\n",
        "test_generator = test_datagen.flow_from_directory(\n",
        "    dataset_path,\n",
        "    target_size=(64, 64),\n",
        "    batch_size=45,\n",
        "    class_mode='categorical',\n",
        "    shuffle=False\n",
        ")"
      ],
      "metadata": {
        "id": "Lg1tue9FbFDB",
        "colab": {
          "base_uri": "https://localhost:8080/"
        },
        "outputId": "ad741996-edf3-4f12-f9fa-56439ba1adb4"
      },
      "execution_count": 13,
      "outputs": [
        {
          "output_type": "stream",
          "name": "stdout",
          "text": [
            "Found 35000 images belonging to 5 classes.\n",
            "Found 15000 images belonging to 5 classes.\n",
            "Found 50000 images belonging to 5 classes.\n"
          ]
        }
      ]
    },
    {
      "cell_type": "code",
      "source": [
        "#The CNN model\n",
        "model = Sequential()\n",
        "\n",
        "model.add(Conv2D(32, (3,3), activation = 'relu', input_shape=(64,64,3)))\n",
        "model.add(MaxPooling2D(2,2))\n",
        "\n",
        "model.add(Conv2D(64, (3,3), activation = 'relu'))\n",
        "model.add(MaxPooling2D(2,2))\n",
        "\n",
        "model.add(Conv2D(128, (3,3), activation = 'relu'))\n",
        "model.add(MaxPooling2D(2,2))\n",
        "\n",
        "model.add(Flatten())\n",
        "\n",
        "model.add(Dense(128, activation='relu'))\n",
        "model.add(Dense(5, activation='softmax'))\n",
        "\n",
        "model.summary()"
      ],
      "metadata": {
        "colab": {
          "base_uri": "https://localhost:8080/"
        },
        "id": "yGVNSlJZy3lh",
        "outputId": "e3280647-d409-4d20-f295-d179cdada3f7"
      },
      "execution_count": 14,
      "outputs": [
        {
          "output_type": "stream",
          "name": "stdout",
          "text": [
            "Model: \"sequential_2\"\n",
            "_________________________________________________________________\n",
            " Layer (type)                Output Shape              Param #   \n",
            "=================================================================\n",
            " conv2d_6 (Conv2D)           (None, 62, 62, 32)        896       \n",
            "                                                                 \n",
            " max_pooling2d_6 (MaxPooling  (None, 31, 31, 32)       0         \n",
            " 2D)                                                             \n",
            "                                                                 \n",
            " conv2d_7 (Conv2D)           (None, 29, 29, 64)        18496     \n",
            "                                                                 \n",
            " max_pooling2d_7 (MaxPooling  (None, 14, 14, 64)       0         \n",
            " 2D)                                                             \n",
            "                                                                 \n",
            " conv2d_8 (Conv2D)           (None, 12, 12, 128)       73856     \n",
            "                                                                 \n",
            " max_pooling2d_8 (MaxPooling  (None, 6, 6, 128)        0         \n",
            " 2D)                                                             \n",
            "                                                                 \n",
            " flatten_2 (Flatten)         (None, 4608)              0         \n",
            "                                                                 \n",
            " dense_4 (Dense)             (None, 128)               589952    \n",
            "                                                                 \n",
            " dense_5 (Dense)             (None, 5)                 645       \n",
            "                                                                 \n",
            "=================================================================\n",
            "Total params: 683,845\n",
            "Trainable params: 683,845\n",
            "Non-trainable params: 0\n",
            "_________________________________________________________________\n"
          ]
        }
      ]
    },
    {
      "cell_type": "code",
      "source": [
        "# Compiling the model\n",
        "model.compile(optimizer='adam', loss='categorical_crossentropy', metrics=['accuracy'])"
      ],
      "metadata": {
        "id": "JdjegGD2y3od"
      },
      "execution_count": 15,
      "outputs": []
    },
    {
      "cell_type": "code",
      "source": [
        "# Training the model\n",
        "hist = model.fit(train_generator,\n",
        "                    steps_per_epoch=len(train_generator),\n",
        "                    epochs=5,\n",
        "                    validation_data=val_generator,\n",
        "                    validation_steps=len(val_generator))"
      ],
      "metadata": {
        "colab": {
          "base_uri": "https://localhost:8080/"
        },
        "id": "Q3rTGt0uy3rE",
        "outputId": "0ccc830f-e5ca-42a6-f2dd-8c85d88bcfb7"
      },
      "execution_count": 16,
      "outputs": [
        {
          "output_type": "stream",
          "name": "stdout",
          "text": [
            "Epoch 1/5\n",
            "778/778 [==============================] - 383s 491ms/step - loss: 0.0682 - accuracy: 0.9787 - val_loss: 0.0653 - val_accuracy: 0.9721\n",
            "Epoch 2/5\n",
            "778/778 [==============================] - 375s 482ms/step - loss: 0.0147 - accuracy: 0.9965 - val_loss: 0.0190 - val_accuracy: 0.9947\n",
            "Epoch 3/5\n",
            "778/778 [==============================] - 373s 479ms/step - loss: 0.0105 - accuracy: 0.9967 - val_loss: 0.0233 - val_accuracy: 0.9934\n",
            "Epoch 4/5\n",
            "778/778 [==============================] - 371s 477ms/step - loss: 0.0169 - accuracy: 0.9963 - val_loss: 0.0098 - val_accuracy: 0.9967\n",
            "Epoch 5/5\n",
            "778/778 [==============================] - 400s 514ms/step - loss: 0.0029 - accuracy: 0.9991 - val_loss: 0.0154 - val_accuracy: 0.9971\n"
          ]
        }
      ]
    },
    {
      "cell_type": "code",
      "source": [
        "# Evaluating the model on the test set\n",
        "loss, accuracy = model.evaluate(test_generator, steps=len(test_generator))\n",
        "print(f'Test loss: {loss:.2f}')\n",
        "print(f'Test accuracy: {accuracy*100:.2f}%')"
      ],
      "metadata": {
        "id": "BMNha96ry3ue",
        "colab": {
          "base_uri": "https://localhost:8080/"
        },
        "outputId": "b71a5a61-2c50-4c7d-f9c9-2e65d28cc198"
      },
      "execution_count": 17,
      "outputs": [
        {
          "output_type": "stream",
          "name": "stdout",
          "text": [
            "1112/1112 [==============================] - 123s 111ms/step - loss: 0.0062 - accuracy: 0.9984\n",
            "Test loss: 0.01\n",
            "Test accuracy: 99.84%\n"
          ]
        }
      ]
    },
    {
      "cell_type": "code",
      "source": [
        "# Generating predictions\n",
        "Y_pred = model.predict(test_generator)\n",
        "y_pred = np.argmax(Y_pred, axis=1)\n",
        "y_true = test_generator.classes"
      ],
      "metadata": {
        "colab": {
          "base_uri": "https://localhost:8080/"
        },
        "id": "J_54kQ_eZGJC",
        "outputId": "f00ae1c2-7f07-417d-ad3c-cf6df04a4f4a"
      },
      "execution_count": 21,
      "outputs": [
        {
          "output_type": "stream",
          "name": "stdout",
          "text": [
            "1112/1112 [==============================] - 123s 110ms/step\n"
          ]
        }
      ]
    },
    {
      "cell_type": "code",
      "source": [
        "# Printing the confusion matrix & classification report\n",
        "print('Confusion Matrix')\n",
        "print(confusion_matrix(y_true, y_pred))\n",
        "\n"
      ],
      "metadata": {
        "colab": {
          "base_uri": "https://localhost:8080/"
        },
        "id": "F0u3Mab0aCEZ",
        "outputId": "e5244a98-e542-4cf1-c3c9-50ef3a9fe261"
      },
      "execution_count": 19,
      "outputs": [
        {
          "output_type": "stream",
          "name": "stdout",
          "text": [
            "Confusion Matrix\n",
            "[[ 9989     0    11     0     0]\n",
            " [    0  9937     0    62     1]\n",
            " [    0     0 10000     0     0]\n",
            " [    0     0     0  9992     8]\n",
            " [    0     0     0     0 10000]]\n"
          ]
        }
      ]
    },
    {
      "cell_type": "code",
      "source": [
        "print('Classification Report')\n",
        "target_names = list(train_generator.class_indices.keys())\n",
        "print(classification_report(y_true, y_pred, target_names=target_names))"
      ],
      "metadata": {
        "colab": {
          "base_uri": "https://localhost:8080/"
        },
        "id": "mKoElCrsakvo",
        "outputId": "d963e3ca-fb1f-4342-b2a8-98f6ade1fad3"
      },
      "execution_count": 20,
      "outputs": [
        {
          "output_type": "stream",
          "name": "stdout",
          "text": [
            "Classification Report\n",
            "              precision    recall  f1-score   support\n",
            "\n",
            "   AbdomenCT       1.00      1.00      1.00     10000\n",
            "         CXR       1.00      0.99      1.00     10000\n",
            "     ChestCT       1.00      1.00      1.00     10000\n",
            "        Hand       0.99      1.00      1.00     10000\n",
            "      HeadCT       1.00      1.00      1.00     10000\n",
            "\n",
            "    accuracy                           1.00     50000\n",
            "   macro avg       1.00      1.00      1.00     50000\n",
            "weighted avg       1.00      1.00      1.00     50000\n",
            "\n"
          ]
        }
      ]
    }
  ]
}